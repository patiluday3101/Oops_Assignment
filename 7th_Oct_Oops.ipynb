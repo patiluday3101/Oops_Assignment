{
  "nbformat": 4,
  "nbformat_minor": 0,
  "metadata": {
    "colab": {
      "provenance": []
    },
    "kernelspec": {
      "name": "python3",
      "display_name": "Python 3"
    },
    "language_info": {
      "name": "python"
    }
  },
  "cells": [
    {
      "cell_type": "markdown",
      "source": [
        "Problem 1: Bank Account Create a class representing a bank account with attributes like account number, account holder name,\n",
        "and balance. Implement methods to deposit and withdraw money from the account."
      ],
      "metadata": {
        "id": "vqXYR42KN3DN"
      }
    },
    {
      "cell_type": "code",
      "source": [
        "class bank_account:\n",
        "  def __init__(self, account_number, account_holder_name, balance):\n",
        "    self.account_number=account_number\n",
        "    self.account_holder_name=account_holder_name\n",
        "    self.balance=balance\n",
        "  def deposit(self, amount):\n",
        "        if amount > 0:\n",
        "            self.balance += amount\n",
        "            print(f\"Deposited ${amount}. New balance is ${self.balance}.\")\n",
        "        else:\n",
        "            print(\"Deposit amount must be positive.\")\n",
        "  def withdraw(self, amount):\n",
        "        if amount > 0:\n",
        "            self.balance -= amount\n",
        "            print(f\"withdraw ${amount}. New balance is ${self.balance}.\")\n",
        "        else:\n",
        "            print(\"withdraw amount must be positive.\")\n",
        "  def get_balance(self):\n",
        "    return self.balance\n",
        "BA=bank_account(\"123456789\", \"John Doe\", 1000)\n",
        "BA.deposit(500)\n",
        "BA.withdraw(200)"
      ],
      "metadata": {
        "colab": {
          "base_uri": "https://localhost:8080/"
        },
        "id": "2B8LiGseN9uq",
        "outputId": "41d45e1e-6503-47cf-ec6d-633680adf35f"
      },
      "execution_count": null,
      "outputs": [
        {
          "output_type": "stream",
          "name": "stdout",
          "text": [
            "Deposited $500. New balance is $1500.\n",
            "withdraw $200. New balance is $1300.\n"
          ]
        }
      ]
    },
    {
      "cell_type": "markdown",
      "source": [
        "Problem 2: Employee Management Create a class representing an employee with attributes like employee ID, name, and salary. Implement methods to calculate the yearly bonus and display employee details."
      ],
      "metadata": {
        "id": "nLMfywVLQH1C"
      }
    },
    {
      "cell_type": "code",
      "source": [
        "class employee:\n",
        "  def __init__(self, employee_id, name, salary):\n",
        "    self.employee_id=employee_id\n",
        "    self.name=name\n",
        "    self.salary=salary\n",
        "  def yearly_bonus(self,bonuse_percentage=0.10):\n",
        "    if bonuse_percentage<0:\n",
        "      print(\"bonuse percentage must be positive\")\n",
        "    else:\n",
        "      bonus=self.salary * bonuse_percentage\n",
        "      return bonus\n",
        "  def display_employee_details(self):\n",
        "    print(f\"Employee ID: {self.employee_id}\")\n",
        "    print(f\"Name: {self.name}\")\n",
        "    print(f\"Salary: {self.salary}\")\n",
        "    print(f\"Yearly Bonus: {self.yearly_bonus()}\")\n",
        "\n",
        "e=employee(\"123456789\", \"John Doe\", 50000)\n",
        "e.yearly_bonus()\n",
        "e.display_employee_details()"
      ],
      "metadata": {
        "colab": {
          "base_uri": "https://localhost:8080/"
        },
        "id": "YBbLCnpBQNZy",
        "outputId": "6c52d1a4-951e-47d4-9657-7ae280cb09b6"
      },
      "execution_count": null,
      "outputs": [
        {
          "output_type": "stream",
          "name": "stdout",
          "text": [
            "Employee ID: 123456789\n",
            "Name: John Doe\n",
            "Salary: 50000\n",
            "Yearly Bonus: 5000.0\n"
          ]
        }
      ]
    },
    {
      "cell_type": "markdown",
      "source": [
        "Problem 3: Vehicle Rental Create a class representing a vehicle rental system. Implement methods to rent a vehicle, return a vehicle, and display available vehicles."
      ],
      "metadata": {
        "id": "YPWPR85zRddi"
      }
    },
    {
      "cell_type": "code",
      "source": [],
      "metadata": {
        "id": "iXTG1Fd6Rg2U"
      },
      "execution_count": null,
      "outputs": []
    },
    {
      "cell_type": "code",
      "source": [
        "class VehicleRentalSystem:\n",
        "    def __init__(self):\n",
        "        self.vehicles = {}\n",
        "        self.rented_vehicles = {}\n",
        "\n",
        "    def add_vehicle(self, vehicle_id, vehicle_info):\n",
        "        \"\"\"Adds a new vehicle to the available vehicles list.\"\"\"\n",
        "        if vehicle_id in self.vehicles or vehicle_id in self.rented_vehicles:\n",
        "            print(f\"Vehicle ID {vehicle_id} already exists.\")\n",
        "            return\n",
        "\n",
        "        self.vehicles[vehicle_id] = vehicle_info\n",
        "        print(f\"Added vehicle {vehicle_id}: {vehicle_info}\")\n",
        "\n",
        "    def rent_vehicle(self, vehicle_id, renter_name):\n",
        "        \"\"\"Rents out a vehicle if it is available.\"\"\"\n",
        "        if vehicle_id in self.vehicles:\n",
        "            vehicle_info = self.vehicles.pop(vehicle_id)\n",
        "            self.rented_vehicles[vehicle_id] = {'vehicle_info': vehicle_info, 'renter_name': renter_name}\n",
        "            print(f\"Vehicle ID {vehicle_id} rented to {renter_name}.\")\n",
        "        else:\n",
        "            print(f\"Vehicle ID {vehicle_id} is not available for rent.\")\n",
        "\n",
        "    def return_vehicle(self, vehicle_id):\n",
        "        \"\"\"Returns a vehicle to the available vehicles list.\"\"\"\n",
        "        if vehicle_id in self.rented_vehicles:\n",
        "            vehicle_info = self.rented_vehicles.pop(vehicle_id)['vehicle_info']\n",
        "            self.vehicles[vehicle_id] = vehicle_info\n",
        "            print(f\"Vehicle ID {vehicle_id} returned and is now available.\")\n",
        "        else:\n",
        "            print(f\"Vehicle ID {vehicle_id} was not rented out.\")\n",
        "\n",
        "    def display_available_vehicles(self):\n",
        "        \"\"\"Displays all available vehicles.\"\"\"\n",
        "        if not self.vehicles:\n",
        "            print(\"No vehicles are currently available.\")\n",
        "        else:\n",
        "            print(\"Available vehicles:\")\n",
        "            for vehicle_id, vehicle_info in self.vehicles.items():\n",
        "                print(f\"Vehicle ID: {vehicle_id}, Info: {vehicle_info}\")\n",
        "\n",
        "# Example usage:\n",
        "if __name__ == \"__main__\":\n",
        "    rental_system = VehicleRentalSystem()\n",
        "\n",
        "    # Adding vehicles\n",
        "    rental_system.add_vehicle(\"V001\", {\"make\": \"Toyota\", \"model\": \"Camry\", \"year\": 2021})\n",
        "    rental_system.add_vehicle(\"V002\", {\"make\": \"Honda\", \"model\": \"Civic\", \"year\": 2022})\n",
        "\n",
        "    # Display available vehicles\n",
        "    rental_system.display_available_vehicles()\n",
        "\n",
        "    # Renting a vehicle\n",
        "    rental_system.rent_vehicle(\"V001\", \"John Doe\")\n",
        "\n",
        "    # Display available vehicles after renting\n",
        "    rental_system.display_available_vehicles()\n",
        "\n",
        "    # Returning a vehicle\n",
        "    rental_system.return_vehicle(\"V001\")\n",
        "\n",
        "    # Display available vehicles after returning\n",
        "    rental_system.display_available_vehicles()\n"
      ],
      "metadata": {
        "colab": {
          "base_uri": "https://localhost:8080/"
        },
        "id": "CuE-zuUVSPbY",
        "outputId": "6b44f036-23e3-479b-ea17-b2bcb1f4851a"
      },
      "execution_count": null,
      "outputs": [
        {
          "output_type": "stream",
          "name": "stdout",
          "text": [
            "Added vehicle V001: {'make': 'Toyota', 'model': 'Camry', 'year': 2021}\n",
            "Added vehicle V002: {'make': 'Honda', 'model': 'Civic', 'year': 2022}\n",
            "Available vehicles:\n",
            "Vehicle ID: V001, Info: {'make': 'Toyota', 'model': 'Camry', 'year': 2021}\n",
            "Vehicle ID: V002, Info: {'make': 'Honda', 'model': 'Civic', 'year': 2022}\n",
            "Vehicle ID V001 rented to John Doe.\n",
            "Available vehicles:\n",
            "Vehicle ID: V002, Info: {'make': 'Honda', 'model': 'Civic', 'year': 2022}\n",
            "Vehicle ID V001 returned and is now available.\n",
            "Available vehicles:\n",
            "Vehicle ID: V002, Info: {'make': 'Honda', 'model': 'Civic', 'year': 2022}\n",
            "Vehicle ID: V001, Info: {'make': 'Toyota', 'model': 'Camry', 'year': 2021}\n"
          ]
        }
      ]
    },
    {
      "cell_type": "markdown",
      "source": [
        "Problem 4: Library Catalog Create classes representing a library and a book. Implement methods to add books to the library, borrow books, and display available books."
      ],
      "metadata": {
        "id": "ZkcWHrwvTyJA"
      }
    },
    {
      "cell_type": "code",
      "source": [
        "class Book:\n",
        "    def __init__(self, title, author):\n",
        "        self.title = title\n",
        "        self.author = author\n",
        "        self.is_borrowed = False\n",
        "\n",
        "    def __str__(self):\n",
        "        status = \"Borrowed\" if self.is_borrowed else \"Available\"\n",
        "        return f\"'{self.title}' by {self.author} ({status})\"\n",
        "\n",
        "    def borrow(self):\n",
        "        if self.is_borrowed:\n",
        "            return False\n",
        "        self.is_borrowed = True\n",
        "        return True\n",
        "\n",
        "    def return_book(self):\n",
        "        if not self.is_borrowed:\n",
        "            return False\n",
        "        self.is_borrowed = False\n",
        "        return True\n",
        "\n",
        "\n",
        "class Library:\n",
        "    def __init__(self):\n",
        "        self.books = []\n",
        "\n",
        "    def add_book(self, book):\n",
        "        self.books.append(book)\n",
        "\n",
        "    def borrow_book(self, title):\n",
        "        for book in self.books:\n",
        "            if book.title == title and not book.is_borrowed:\n",
        "                if book.borrow():\n",
        "                    print(f\"You have successfully borrowed '{title}'.\")\n",
        "                    return\n",
        "                else:\n",
        "                    print(f\"'{title}' is already borrowed.\")\n",
        "                    return\n",
        "        print(f\"'{title}' is not available in the library.\")\n",
        "\n",
        "    def return_book(self, title):\n",
        "        for book in self.books:\n",
        "            if book.title == title and book.is_borrowed:\n",
        "                if book.return_book():\n",
        "                    print(f\"You have successfully returned '{title}'.\")\n",
        "                    return\n",
        "                else:\n",
        "                    print(f\"'{title}' was not borrowed.\")\n",
        "                    return\n",
        "        print(f\"'{title}' was not found in the library.\")\n",
        "\n",
        "    def display_available_books(self):\n",
        "        available_books = [book for book in self.books if not book.is_borrowed]\n",
        "        if available_books:\n",
        "            print(\"Available books:\")\n",
        "            for book in available_books:\n",
        "                print(book)\n",
        "        else:\n",
        "            print(\"No books are available right now.\")\n",
        "\n",
        "\n",
        "# Example Usage:\n",
        "if __name__ == \"__main__\":\n",
        "    # Create a library\n",
        "    my_library = Library()\n",
        "\n",
        "    # Add books to the library\n",
        "    my_library.add_book(Book(\"1984\", \"George Orwell\"))\n",
        "    my_library.add_book(Book(\"To Kill a Mockingbird\", \"Harper Lee\"))\n",
        "    my_library.add_book(Book(\"The Great Gatsby\", \"F. Scott Fitzgerald\"))\n",
        "\n",
        "    # Display available books\n",
        "    my_library.display_available_books()\n",
        "\n",
        "    # Borrow a book\n",
        "    my_library.borrow_book(\"1984\")\n",
        "\n",
        "    # Try borrowing the same book again\n",
        "    my_library.borrow_book(\"1984\")\n",
        "\n",
        "    # Display available books again\n",
        "    my_library.display_available_books()\n",
        "\n",
        "    # Return the book\n",
        "    my_library.return_book(\"1984\")\n",
        "\n",
        "    # Display available books again\n",
        "    my_library.display_available_books()\n"
      ],
      "metadata": {
        "id": "64MNbtg3Txy6",
        "colab": {
          "base_uri": "https://localhost:8080/"
        },
        "outputId": "9349edd2-3d6b-4d53-e518-c27455a8d911"
      },
      "execution_count": null,
      "outputs": [
        {
          "output_type": "stream",
          "name": "stdout",
          "text": [
            "Available books:\n",
            "'1984' by George Orwell (Available)\n",
            "'To Kill a Mockingbird' by Harper Lee (Available)\n",
            "'The Great Gatsby' by F. Scott Fitzgerald (Available)\n",
            "You have successfully borrowed '1984'.\n",
            "'1984' is not available in the library.\n",
            "Available books:\n",
            "'To Kill a Mockingbird' by Harper Lee (Available)\n",
            "'The Great Gatsby' by F. Scott Fitzgerald (Available)\n",
            "You have successfully returned '1984'.\n",
            "Available books:\n",
            "'1984' by George Orwell (Available)\n",
            "'To Kill a Mockingbird' by Harper Lee (Available)\n",
            "'The Great Gatsby' by F. Scott Fitzgerald (Available)\n"
          ]
        }
      ]
    },
    {
      "cell_type": "markdown",
      "source": [
        "Problem 5: Product Inventory Create classes representing a product and an inventory system. Implement methods to add products to the inventory, update product quantity, and display available products"
      ],
      "metadata": {
        "id": "ICtmG8ol12WW"
      }
    },
    {
      "cell_type": "code",
      "source": [
        "class Product:\n",
        "    def __init__(self, name, price, quantity):\n",
        "        self.name = name\n",
        "        self.price = price\n",
        "        self.quantity = quantity\n",
        "\n",
        "    def update_quantity(self, quantity):\n",
        "        self.quantity += quantity\n",
        "        if self.quantity < 0:\n",
        "            self.quantity = 0  # Prevent negative quantities\n",
        "\n",
        "    def __str__(self):\n",
        "        return f\"Product: {self.name}, Price: ${self.price:.2f}, Quantity: {self.quantity}\"\n",
        "\n",
        "\n",
        "class Inventory:\n",
        "    def __init__(self):\n",
        "        self.products = {}\n",
        "\n",
        "    def add_product(self, product):\n",
        "        if product.name in self.products:\n",
        "            # If the product already exists, update its quantity\n",
        "            self.products[product.name].update_quantity(product.quantity)\n",
        "        else:\n",
        "            # Add the new product\n",
        "            self.products[product.name] = product\n",
        "\n",
        "    def update_product_quantity(self, name, quantity):\n",
        "        if name in self.products:\n",
        "            self.products[name].update_quantity(quantity)\n",
        "            print(f\"Updated quantity of '{name}' to {self.products[name].quantity}.\")\n",
        "        else:\n",
        "            print(f\"Product '{name}' not found in inventory.\")\n",
        "\n",
        "    def display_available_products(self):\n",
        "        if self.products:\n",
        "            print(\"Available products:\")\n",
        "            for product in self.products.values():\n",
        "                print(product)\n",
        "        else:\n",
        "            print(\"No products available in inventory.\")\n",
        "\n",
        "\n",
        "# Example Usage:\n",
        "if __name__ == \"__main__\":\n",
        "    # Create an inventory system\n",
        "    my_inventory = Inventory()\n",
        "\n",
        "    # Add products to the inventory\n",
        "    my_inventory.add_product(Product(\"Laptop\", 999.99, 10))\n",
        "    my_inventory.add_product(Product(\"Smartphone\", 499.99, 25))\n",
        "    my_inventory.add_product(Product(\"Headphones\", 89.99, 50))\n",
        "\n",
        "    # Display available products\n",
        "    my_inventory.display_available_products()\n",
        "\n",
        "    # Update product quantity\n",
        "    my_inventory.update_product_quantity(\"Laptop\", -5)  # Sell 5 laptops\n",
        "    my_inventory.update_product_quantity(\"Smartphone\", 10)  # Restock 10 smartphones\n",
        "\n",
        "    # Display available products again\n",
        "    my_inventory.display_available_products()\n",
        "\n",
        "    # Try updating a non-existent product\n",
        "    my_inventory.update_product_quantity(\"Tablet\", 5)\n"
      ],
      "metadata": {
        "colab": {
          "base_uri": "https://localhost:8080/"
        },
        "id": "iJsdrIFp16Sq",
        "outputId": "05a08225-7b79-4c95-f391-8a1b7074df42"
      },
      "execution_count": null,
      "outputs": [
        {
          "output_type": "stream",
          "name": "stdout",
          "text": [
            "Available products:\n",
            "Product: Laptop, Price: $999.99, Quantity: 10\n",
            "Product: Smartphone, Price: $499.99, Quantity: 25\n",
            "Product: Headphones, Price: $89.99, Quantity: 50\n",
            "Updated quantity of 'Laptop' to 5.\n",
            "Updated quantity of 'Smartphone' to 35.\n",
            "Available products:\n",
            "Product: Laptop, Price: $999.99, Quantity: 5\n",
            "Product: Smartphone, Price: $499.99, Quantity: 35\n",
            "Product: Headphones, Price: $89.99, Quantity: 50\n",
            "Product 'Tablet' not found in inventory.\n"
          ]
        }
      ]
    },
    {
      "cell_type": "markdown",
      "source": [
        "Problem 6: Shape Calculation Create a class representing a shape with attributes like length, width, and height. Implement methods to calculate the area and perimeter of the shape."
      ],
      "metadata": {
        "id": "Wu5Gh6gv2OcS"
      }
    },
    {
      "cell_type": "code",
      "source": [
        "class shape:\n",
        "  def __init__(self, length, width, height):\n",
        "    self.length=length\n",
        "    self.width=width\n",
        "    self.height=height\n",
        "  def area(self):\n",
        "    return self.length*self.width\n",
        "  def perimeter(self):\n",
        "    return 2*(self.length+self.width)\n",
        "s=shape(5,6,7)\n",
        "print(s.area())\n",
        "print(s.perimeter())"
      ],
      "metadata": {
        "colab": {
          "base_uri": "https://localhost:8080/"
        },
        "id": "O3dpUtS92RW6",
        "outputId": "2272d1bd-6c94-4bf9-c834-fb1180c8a728"
      },
      "execution_count": null,
      "outputs": [
        {
          "output_type": "stream",
          "name": "stdout",
          "text": [
            "30\n",
            "22\n"
          ]
        }
      ]
    },
    {
      "cell_type": "markdown",
      "source": [
        "Problem 7: Student Management Create a class representing a student with attributes like student ID, name, and grades. Implement methods to calculate the average grade and display student details."
      ],
      "metadata": {
        "id": "fRZqROKq2eM3"
      }
    },
    {
      "cell_type": "code",
      "source": [
        "class student:\n",
        "  def __init__(self,student_id, name, grades):\n",
        "    self.student_id=student_id\n",
        "    self.name=name\n",
        "    self.grades=grades\n",
        "  def average_grade(self):\n",
        "    if not self.grades:\n",
        "      return 0\n",
        "    total=sum(self.grades)\n",
        "    return total/len(self.grades)\n",
        "  def display_student_details(self):\n",
        "    print(f\"Student ID: {self.student_id}\")\n",
        "    print(f\"Name: {self.name}\")\n",
        "    print(f\"Grades: {', '.join(map(str, self.grades))}\")\n",
        "s=student(\"123456789\", \"John Doe\", [90, 85, 92, 88])\n",
        "print(s.average_grade())\n",
        "s.display_student_details()"
      ],
      "metadata": {
        "id": "VJGK0bn-2d8_",
        "colab": {
          "base_uri": "https://localhost:8080/"
        },
        "outputId": "fd64fc9b-fbcc-4d77-d6fc-e5b9c8ac8445"
      },
      "execution_count": 5,
      "outputs": [
        {
          "output_type": "stream",
          "name": "stdout",
          "text": [
            "88.75\n",
            "Student ID: 123456789\n",
            "Name: John Doe\n",
            "Grades: 90, 85, 92, 88\n"
          ]
        }
      ]
    },
    {
      "cell_type": "markdown",
      "source": [
        "\n",
        "Problem 8: Email Management Create a class representing an email with attributes like sender, recipient, and subject. Implement methods to send an email and display email details."
      ],
      "metadata": {
        "id": "IrnL4Bbl3wPd"
      }
    },
    {
      "cell_type": "code",
      "source": [
        "class email:\n",
        "  def __init__(self, sender, recipient, subject, message):\n",
        "    self.sender=sender\n",
        "    self.recipient=recipient\n",
        "    self.subject=subject\n",
        "    self.message=message\n",
        "    self.sent=False\n",
        "  def send_email(self):\n",
        "    self.sent=True\n",
        "    print(f\"Email sent from {self.sender} to {self.recipient}.\")\n",
        "  def display_email_details(self):\n",
        "    print(f\"Sender: {self.sender}\")\n",
        "    print(f\"Recipient: {self.recipient}\")\n",
        "    print(f\"Subject: {self.subject}\")\n",
        "    print(f\"Message: {self.message}\")\n",
        "e= email(\"uday\", \"john\", \"hello\", \"hi\")\n",
        "e.send_email()\n",
        "e.display_email_details()"
      ],
      "metadata": {
        "colab": {
          "base_uri": "https://localhost:8080/"
        },
        "id": "t2yKqTmG3ykc",
        "outputId": "6c4470ae-7fc0-4563-cf40-79cb33e06bd9"
      },
      "execution_count": 6,
      "outputs": [
        {
          "output_type": "stream",
          "name": "stdout",
          "text": [
            "Email sent from uday to john.\n",
            "Sender: uday\n",
            "Recipient: john\n",
            "Subject: hello\n",
            "Message: hi\n"
          ]
        }
      ]
    },
    {
      "cell_type": "markdown",
      "source": [
        "Problem 9: Social Media Profile Create a class representing a social media profile with attributes like username and posts. Implement methods to add posts, display posts, and search for posts by keyword."
      ],
      "metadata": {
        "id": "vD1Q53np4MLk"
      }
    },
    {
      "cell_type": "code",
      "source": [
        "class social_media_profile:\n",
        "  def __init__(self, username):\n",
        "    self.username=username\n",
        "    self.posts=[]\n",
        "  def add_post(self, post_content):\n",
        "    self.posts.append(post_content)\n",
        "    print(f\"Post added by {self.username}\")\n",
        "  def display_posts(self):\n",
        "    if not self.posts:\n",
        "      print(f\"{self.username} has no posts.\")\n",
        "    else:\n",
        "      print(f\"Posts by {self.username}:\")\n",
        "  def search_for_posts(self, keyword):\n",
        "    matching_posts=[post for post in self.posts if keyword in post]\n",
        "    if matching_posts:\n",
        "      print(f\"Posts by {self.username} containing '{keyword}':\")\n",
        "sm = social_media_profile(\"john\")\n",
        "sm.add_post(\"Hello, world!\")\n",
        "sm.add_post(\"Python is awesome!\")\n",
        "sm.display_posts()"
      ],
      "metadata": {
        "colab": {
          "base_uri": "https://localhost:8080/"
        },
        "id": "NDGUvFas4Oqs",
        "outputId": "6a6cea63-83fc-40ff-eb12-1ea6e846c1f8"
      },
      "execution_count": 7,
      "outputs": [
        {
          "output_type": "stream",
          "name": "stdout",
          "text": [
            "Post added by john\n",
            "Post added by john\n",
            "Posts by john:\n"
          ]
        }
      ]
    },
    {
      "cell_type": "markdown",
      "source": [
        "Problem 10: ToDo List Create a class representing a ToDo list with attributes like tasks and due dates. Implement methods to add tasks, mark tasks as completed, and display pending tasks."
      ],
      "metadata": {
        "id": "N9JumsVT44oB"
      }
    },
    {
      "cell_type": "code",
      "source": [
        "from datetime import datetime\n",
        "\n",
        "class ToDoList:\n",
        "    def __init__(self):\n",
        "        self.tasks = []\n",
        "\n",
        "    def add_task(self, description, due_date):\n",
        "        \"\"\"Add a new task to the list.\"\"\"\n",
        "        task = {\n",
        "            'description': description,\n",
        "            'due_date': due_date,\n",
        "            'completed': False\n",
        "        }\n",
        "        self.tasks.append(task)\n",
        "        print(f\"Task added: {description} (Due: {due_date})\")\n",
        "\n",
        "    def mark_completed(self, task_index):\n",
        "        \"\"\"Mark a task as completed by its index in the list.\"\"\"\n",
        "        if 0 <= task_index < len(self.tasks):\n",
        "            self.tasks[task_index]['completed'] = True\n",
        "            print(f\"Task '{self.tasks[task_index]['description']}' marked as completed.\")\n",
        "        else:\n",
        "            print(\"Invalid task index.\")\n",
        "\n",
        "    def display_pending_tasks(self):\n",
        "        \"\"\"Display all pending tasks.\"\"\"\n",
        "        print(\"Pending Tasks:\")\n",
        "        for index, task in enumerate(self.tasks):\n",
        "            if not task['completed']:\n",
        "                print(f\"{index}: {task['description']} (Due: {task['due_date']})\")\n",
        "\n",
        "# Example usage:\n",
        "todo_list = ToDoList()\n",
        "todo_list.add_task(\"Finish project report\", \"2024-09-15\")\n",
        "todo_list.add_task(\"Buy groceries\", \"2024-09-05\")\n",
        "todo_list.display_pending_tasks()\n",
        "\n",
        "todo_list.mark_completed(1)\n",
        "todo_list.display_pending_tasks()\n"
      ],
      "metadata": {
        "colab": {
          "base_uri": "https://localhost:8080/"
        },
        "id": "DoxxvV8n47Tp",
        "outputId": "3c1d3e30-c49a-42e8-8c72-ae02a0fc169f"
      },
      "execution_count": 8,
      "outputs": [
        {
          "output_type": "stream",
          "name": "stdout",
          "text": [
            "Task added: Finish project report (Due: 2024-09-15)\n",
            "Task added: Buy groceries (Due: 2024-09-05)\n",
            "Pending Tasks:\n",
            "0: Finish project report (Due: 2024-09-15)\n",
            "1: Buy groceries (Due: 2024-09-05)\n",
            "Task 'Buy groceries' marked as completed.\n",
            "Pending Tasks:\n",
            "0: Finish project report (Due: 2024-09-15)\n"
          ]
        }
      ]
    }
  ]
}